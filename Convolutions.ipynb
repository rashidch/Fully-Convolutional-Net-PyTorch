{
 "cells": [
  {
   "cell_type": "code",
   "execution_count": 3,
   "metadata": {},
   "outputs": [],
   "source": [
    "import numpy as np"
   ]
  },
  {
   "cell_type": "code",
   "execution_count": 44,
   "metadata": {},
   "outputs": [],
   "source": [
    "def conv2d_single_channel(input, w):\n",
    "    \"\"\"Two-dimensional convolution of a single channel.\n",
    "\n",
    "    Uses SAME padding with 0s, a stride of 1 and no dilation.\n",
    "\n",
    "    input: input array with shape (height, width)\n",
    "    w: filter array with shape (fd, fd) with odd fd.\n",
    "\n",
    "    Returns a result with the same shape as input.\n",
    "    \"\"\"\n",
    "    assert w.shape[0] == w.shape[1] and w.shape[0] % 2 == 1\n",
    "\n",
    "    # SAME padding with zeros: creating a new padded array to simplify index\n",
    "    # calculations and to avoid checking boundary conditions in the inner loop.\n",
    "    # padded_input is like input, but padded on all sides with\n",
    "    # half-the-filter-width of zeros.\n",
    "    padded_input = np.pad(input,\n",
    "                          pad_width=w.shape[0] // 2,\n",
    "                          mode='constant',\n",
    "                          constant_values=0)\n",
    "    output = np.zeros_like(input)\n",
    "    for i in range(output.shape[0]): # slides window vertically\n",
    "        for j in range(output.shape[1]): #slides window horizontally \n",
    "            # This inner double loop computes every output element, by\n",
    "            # multiplying the corresponding window into the input with the\n",
    "            # filter.\n",
    "            for fi in range(w.shape[0]): # (i+fi) row index of element in padded_input\n",
    "                for fj in range(w.shape[1]): # (j+fj) column index of element in padded_input\n",
    "                    #print(\"i\",i,\"j\",j,\"fi\",fi, \"fj\",fj)\n",
    "                    output[i, j] += padded_input[i + fi, j + fj] * w[fi, fj]\n",
    "    return output"
   ]
  },
  {
   "cell_type": "code",
   "execution_count": 49,
   "metadata": {},
   "outputs": [
    {
     "name": "stdout",
     "output_type": "stream",
     "text": [
      "(7, 7)\n"
     ]
    }
   ],
   "source": [
    "M = np.random.randn(5,5)\n",
    "W = np.ones((3,3))\n",
    "_=conv2d_single_channel(M,W)"
   ]
  },
  {
   "cell_type": "code",
   "execution_count": 50,
   "metadata": {},
   "outputs": [],
   "source": [
    "def conv2d_multi_channel(input, w):\n",
    "    \"\"\"Two-dimensional convolution with multiple channels.\n",
    "\n",
    "    Uses SAME padding with 0s, a stride of 1 and no dilation.\n",
    "\n",
    "    input: input array with shape (height, width, in_depth)\n",
    "    w: filter array with shape (fd, fd, in_depth, out_depth) with odd fd.\n",
    "       in_depth is the number of input channels, and has the be the same as\n",
    "       input's in_depth; out_depth is the number of output channels.\n",
    "\n",
    "    Returns a result with shape (height, width, out_depth).\n",
    "    \"\"\"\n",
    "    assert w.shape[0] == w.shape[1] and w.shape[0] % 2 == 1\n",
    "\n",
    "    padw = w.shape[0] // 2\n",
    "    padded_input = np.pad(input,\n",
    "                          pad_width=((padw, padw), (padw, padw), (0, 0)),\n",
    "                          mode='constant',\n",
    "                          constant_values=0)\n",
    "\n",
    "    height, width, in_depth = input.shape\n",
    "    assert in_depth == w.shape[2]\n",
    "    out_depth = w.shape[3]\n",
    "    output = np.zeros((height, width, out_depth))\n",
    "\n",
    "    for out_c in range(out_depth):\n",
    "        # For each output channel, perform 2d convolution summed across all\n",
    "        # input channels.\n",
    "        for i in range(height):\n",
    "            for j in range(width):\n",
    "                # Now the inner loop also works across all input channels.\n",
    "                for c in range(in_depth):\n",
    "                    for fi in range(w.shape[0]):\n",
    "                        for fj in range(w.shape[1]):\n",
    "                            w_element = w[fi, fj, c, out_c]\n",
    "                            output[i, j, out_c] += (\n",
    "                                padded_input[i + fi, j + fj, c] * w_element)\n",
    "    return output"
   ]
  },
  {
   "cell_type": "code",
   "execution_count": 51,
   "metadata": {},
   "outputs": [],
   "source": [
    "M = np.random.randn(5,5,3)\n",
    "W = np.ones((3,3,3,5))\n",
    "_=conv2d_multi_channel(M,W)"
   ]
  },
  {
   "cell_type": "code",
   "execution_count": 61,
   "metadata": {},
   "outputs": [],
   "source": [
    "def depthwise_conv2d(input, w):\n",
    "    \"\"\"Two-dimensional depthwise convolution.\n",
    "\n",
    "    Uses SAME padding with 0s, a stride of 1 and no dilation. A single output\n",
    "    channel is used per input channel (channel_multiplier=1).\n",
    "\n",
    "    input: input array with shape (height, width, in_depth)\n",
    "    w: filter array with shape (fd, fd, in_depth)\n",
    "\n",
    "    Returns a result with shape (height, width, in_depth).\n",
    "    \"\"\"\n",
    "    assert w.shape[0] == w.shape[1] and w.shape[0] % 2 == 1\n",
    "\n",
    "    padw = w.shape[0] // 2\n",
    "    padded_input = np.pad(input,\n",
    "                          pad_width=((padw, padw), (padw, padw), (0, 0)),\n",
    "                          mode='constant',\n",
    "                          constant_values=0)\n",
    "\n",
    "    height, width, in_depth = input.shape\n",
    "    assert in_depth == w.shape[2]\n",
    "    output = np.zeros((height, width, in_depth))\n",
    "\n",
    "    for c in range(in_depth):\n",
    "        # For each input channel separately, apply its corresponsing filter\n",
    "        # to the input.\n",
    "        for i in range(height):\n",
    "            for j in range(width):\n",
    "                for fi in range(w.shape[0]):\n",
    "                    for fj in range(w.shape[1]):\n",
    "                        w_element = w[fi, fj, c]\n",
    "                        #print('W element', w_element)\n",
    "                        output[i, j, c] += (\n",
    "                            padded_input[i + fi, j + fj, c] * w_element)\n",
    "    return output"
   ]
  },
  {
   "cell_type": "code",
   "execution_count": 62,
   "metadata": {},
   "outputs": [
    {
     "data": {
      "text/plain": [
       "array([[[ 2.26771577, -2.8708533 ,  1.26122229],\n",
       "        [ 3.03376112, -2.51311519,  1.06724878],\n",
       "        [ 3.15332291, -0.81657014,  0.3598436 ],\n",
       "        [-0.73272626,  2.441963  , -2.16166845],\n",
       "        [-1.49877162,  2.0842249 , -1.96769495]],\n",
       "\n",
       "       [[ 1.1021611 , -3.77516518,  2.75867464],\n",
       "        [ 3.11405786, -2.05582411,  3.16095565],\n",
       "        [ 4.64540164, -0.14494812,  2.75225421],\n",
       "        [ 0.96857959,  2.18401949, -0.46529562],\n",
       "        [-1.04331718,  0.46467841, -0.86757664]],\n",
       "\n",
       "       [[-0.64382228, -2.96815819,  0.63235524],\n",
       "        [-0.45752467, -3.41401197,  2.77035305],\n",
       "        [ 2.46908283,  0.57913718,  1.94712499],\n",
       "        [ 0.29093532,  0.12756132,  1.5167949 ],\n",
       "        [ 0.10463772,  0.5734151 , -0.62120292]],\n",
       "\n",
       "       [[ 1.28657767, -0.19109151,  1.92556675],\n",
       "        [ 1.64610463, -1.93247096,  3.92925751],\n",
       "        [ 3.09673066, -0.27726924,  3.47203056],\n",
       "        [ 1.46361492, -1.27583213,  3.44128748],\n",
       "        [ 1.10408796,  0.46554731,  1.43759673]],\n",
       "\n",
       "       [[ 2.45213234,  0.71322037,  0.4281144 ],\n",
       "        [ 1.56580788, -2.38976205,  1.83555064],\n",
       "        [ 1.60465193, -0.94889126,  1.07961994],\n",
       "        [-0.23769093, -1.01788862,  1.74491466],\n",
       "        [ 0.64863352,  2.0850938 ,  0.33747842]]])"
      ]
     },
     "execution_count": 62,
     "metadata": {},
     "output_type": "execute_result"
    }
   ],
   "source": [
    "M = np.random.randn(5,5,3)\n",
    "W = np.ones((3,3,3))\n",
    "depthwise_conv2d(M,W)"
   ]
  },
  {
   "cell_type": "code",
   "execution_count": 63,
   "metadata": {},
   "outputs": [],
   "source": [
    "def separable_conv2d(input, w_depth, w_pointwise):\n",
    "    \"\"\"Depthwise separable convolution.\n",
    "\n",
    "    Performs 2d depthwise convolution with w_depth, and then applies a pointwise\n",
    "    1x1 convolution with w_pointwise on the result.\n",
    "\n",
    "    Uses SAME padding with 0s, a stride of 1 and no dilation. A single output\n",
    "    channel is used per input channel (channel_multiplier=1) in w_depth.\n",
    "\n",
    "    input: input array with shape (height, width, in_depth)\n",
    "    w_depth: depthwise filter array with shape (fd, fd, in_depth)\n",
    "    w_pointwise: pointwise filter array with shape (in_depth, out_depth)\n",
    "\n",
    "    Returns a result with shape (height, width, out_depth).\n",
    "    \"\"\"\n",
    "    # First run the depthwise convolution. Its result has the same shape as\n",
    "    # input.\n",
    "    depthwise_result = depthwise_conv2d(input, w_depth)\n",
    "\n",
    "    height, width, in_depth = depthwise_result.shape\n",
    "    assert in_depth == w_pointwise.shape[0]\n",
    "    out_depth = w_pointwise.shape[1]\n",
    "    output = np.zeros((height, width, out_depth))\n",
    "\n",
    "    for out_c in range(out_depth):\n",
    "        for i in range(height):\n",
    "            for j in range(width):\n",
    "                for c in range(in_depth):\n",
    "                    w_element = w_pointwise[c, out_c]\n",
    "                    output[i, j, out_c] += depthwise_result[i, j, c] * w_element\n",
    "    return output"
   ]
  },
  {
   "cell_type": "code",
   "execution_count": 69,
   "metadata": {},
   "outputs": [
    {
     "data": {
      "text/plain": [
       "(5, 5, 1)"
      ]
     },
     "execution_count": 69,
     "metadata": {},
     "output_type": "execute_result"
    }
   ],
   "source": [
    "M = np.random.randn(5,5,3)\n",
    "W = np.ones((3,3,3))\n",
    "WP = np.ones((3,1))\n",
    "separable_conv2d(M,W,WP).shape"
   ]
  },
  {
   "cell_type": "code",
   "execution_count": null,
   "metadata": {},
   "outputs": [],
   "source": []
  }
 ],
 "metadata": {
  "kernelspec": {
   "display_name": "Python 3",
   "language": "python",
   "name": "python3"
  },
  "language_info": {
   "codemirror_mode": {
    "name": "ipython",
    "version": 3
   },
   "file_extension": ".py",
   "mimetype": "text/x-python",
   "name": "python",
   "nbconvert_exporter": "python",
   "pygments_lexer": "ipython3",
   "version": "3.6.8"
  }
 },
 "nbformat": 4,
 "nbformat_minor": 2
}
