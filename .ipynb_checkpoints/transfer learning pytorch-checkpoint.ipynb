{
 "cells": [
  {
   "cell_type": "code",
   "execution_count": 48,
   "metadata": {},
   "outputs": [],
   "source": [
    "from __future__ import print_function, division\n",
    "\n",
    "import torch\n",
    "import torch.nn as nn\n",
    "import torch.optim as optim\n",
    "from torch.optim import lr_scheduler\n",
    "import numpy as np\n",
    "import torchvision\n",
    "from torchvision import datasets, models, transforms\n",
    "import matplotlib.pyplot as plt\n",
    "import time\n",
    "import os\n",
    "import copy\n",
    "from mpl_toolkits.axes_grid1 import ImageGrid\n",
    "from torch.autograd import Variable\n",
    "plt.ion()\n",
    "\n",
    "#%matplotlib inline"
   ]
  },
  {
   "cell_type": "code",
   "execution_count": 49,
   "metadata": {},
   "outputs": [],
   "source": [
    "# Data augmentation and normalization for training \n",
    "# Just normalization for validation\n",
    "\n",
    "data_transforms = {\n",
    "    'train': transforms.Compose([\n",
    "        transforms.RandomResizedCrop(224), \n",
    "        transforms.RandomHorizontalFlip(),\n",
    "        transforms.ToTensor(),\n",
    "        transforms.Normalize([0.485, 0.456, 0.406],[0.229, 0.224, 0.225])\n",
    "    ]),\n",
    "    'val':transforms.Compose([\n",
    "        transforms.Resize(256),\n",
    "        transforms.CenterCrop(224),\n",
    "        transforms.ToTensor(),\n",
    "        transforms.Normalize([0.485,0.456,0.406],[0.229, 0.224, 0.225])\n",
    "    ])    \n",
    "}"
   ]
  },
  {
   "cell_type": "code",
   "execution_count": 50,
   "metadata": {},
   "outputs": [
    {
     "data": {
      "text/plain": [
       "{'train': Dataset ImageFolder\n",
       "     Number of datapoints: 100000\n",
       "     Root location: /home/mnt/jupyter_dir/tiny-imagenet-200/train,\n",
       " 'val': Dataset ImageFolder\n",
       "     Number of datapoints: 10000\n",
       "     Root location: /home/mnt/jupyter_dir/tiny-imagenet-200/val}"
      ]
     },
     "execution_count": 50,
     "metadata": {},
     "output_type": "execute_result"
    }
   ],
   "source": [
    "#image_dataset Attributes:\n",
    "# classes (list): List of the class names.\n",
    "# class_to_idx (dict): Dict with items (class_name, class_index).\n",
    "# imgs (list): List of (image path, class_index) tuples\n",
    "            \n",
    "#data_dir='/home/mnt/jupyter_dir/hymenoptera_data'\n",
    "data_dir='/home/mnt/jupyter_dir/tiny-imagenet-200'\n",
    "image_datasets = { x: datasets.ImageFolder(os.path.join(data_dir, x), \n",
    "                        data_transforms[x]) for x in ['train', 'val'] }\n",
    "image_datasets"
   ]
  },
  {
   "cell_type": "code",
   "execution_count": 51,
   "metadata": {},
   "outputs": [],
   "source": [
    "dataloaders= {x: torch.utils.data.DataLoader(image_datasets[x], batch_size=16, \n",
    "                                             shuffle=True, num_workers=0)\n",
    "              for x in ['train', 'val'] }\n",
    "dataset_sizes = {x: len(image_datasets[x]) for x in ['train','val']}\n",
    "class_names = image_datasets['train'].classes\n",
    "\n",
    "device = torch.device(\"cuda:0\" if torch.cuda.is_available() else \"cpu\")"
   ]
  },
  {
   "cell_type": "code",
   "execution_count": 58,
   "metadata": {},
   "outputs": [
    {
     "name": "stdout",
     "output_type": "stream",
     "text": [
      "Overall_acc tensor(0.0002, device='cuda:0', dtype=torch.float64)\n"
     ]
    }
   ],
   "source": [
    "model_conv = torchvision.models.resnet101(pretrained=True)\n",
    "model_conv = model_conv.to(device)\n",
    "\n",
    "running_corrects = 0\n",
    "model_conv.eval()\n",
    "with torch.no_grad():\n",
    "        for i, (inputs, labels) in enumerate(dataloaders['val']):\n",
    "            #print(i)\n",
    "            inputs = inputs.to(device)\n",
    "            labels = labels.to(device)\n",
    "\n",
    "            outputs = model_conv(inputs)\n",
    "            _, preds = torch.max(outputs, 1)\n",
    "            running_corrects += torch.sum(preds==labels)\n",
    "            \n",
    "overall_acc = running_corrects.double() / dataset_sizes['val']\n",
    "print(\"Overall_acc\", overall_acc)"
   ]
  },
  {
   "cell_type": "code",
   "execution_count": 59,
   "metadata": {},
   "outputs": [
    {
     "name": "stdout",
     "output_type": "stream",
     "text": [
      "Overall_acc tensor(0.0007, device='cuda:0', dtype=torch.float64)\n"
     ]
    }
   ],
   "source": [
    "model_conv = torchvision.models.resnet50(pretrained=True)\n",
    "model_conv = model_conv.to(device)\n",
    "\n",
    "running_corrects = 0\n",
    "model_conv.eval()\n",
    "with torch.no_grad():\n",
    "        for i, (inputs, labels) in enumerate(dataloaders['val']):\n",
    "            #print(i)\n",
    "            inputs = inputs.to(device)\n",
    "            labels = labels.to(device)\n",
    "\n",
    "            outputs = model_conv(inputs)\n",
    "            _, preds = torch.max(outputs, 1)\n",
    "            running_corrects += torch.sum(preds==labels)\n",
    "            \n",
    "overall_acc = running_corrects.double() / dataset_sizes['val']\n",
    "print(\"Overall_acc\", overall_acc)"
   ]
  },
  {
   "cell_type": "code",
   "execution_count": 60,
   "metadata": {},
   "outputs": [
    {
     "name": "stderr",
     "output_type": "stream",
     "text": [
      "Downloading: \"https://download.pytorch.org/models/resnet152-b121ed2d.pth\" to /root/.cache/torch/checkpoints/resnet152-b121ed2d.pth\n",
      "100%|██████████| 241530880/241530880 [00:21<00:00, 11116733.59it/s]\n"
     ]
    },
    {
     "name": "stdout",
     "output_type": "stream",
     "text": [
      "Overall_acc tensor(0.0004, device='cuda:0', dtype=torch.float64)\n"
     ]
    }
   ],
   "source": [
    "model_conv = torchvision.models.resnet152(pretrained=True)\n",
    "model_conv = model_conv.to(device)\n",
    "\n",
    "running_corrects = 0\n",
    "model_conv.eval()\n",
    "with torch.no_grad():\n",
    "        for i, (inputs, labels) in enumerate(dataloaders['val']):\n",
    "            #print(i)\n",
    "            inputs = inputs.to(device)\n",
    "            labels = labels.to(device)\n",
    "\n",
    "            outputs = model_conv(inputs)\n",
    "            _, preds = torch.max(outputs, 1)\n",
    "            running_corrects += torch.sum(preds==labels)\n",
    "            \n",
    "overall_acc = running_corrects.double() / dataset_sizes['val']\n",
    "print(\"Overall_acc\", overall_acc)"
   ]
  },
  {
   "cell_type": "code",
   "execution_count": null,
   "metadata": {},
   "outputs": [],
   "source": []
  }
 ],
 "metadata": {
  "kernelspec": {
   "display_name": "Python 3",
   "language": "python",
   "name": "python3"
  },
  "language_info": {
   "codemirror_mode": {
    "name": "ipython",
    "version": 3
   },
   "file_extension": ".py",
   "mimetype": "text/x-python",
   "name": "python",
   "nbconvert_exporter": "python",
   "pygments_lexer": "ipython3",
   "version": "3.6.8"
  }
 },
 "nbformat": 4,
 "nbformat_minor": 2
}
